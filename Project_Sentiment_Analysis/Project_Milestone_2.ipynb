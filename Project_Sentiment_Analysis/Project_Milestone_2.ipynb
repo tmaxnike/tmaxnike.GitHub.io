{
 "cells": [
  {
   "cell_type": "markdown",
   "id": "8b31c767",
   "metadata": {},
   "source": [
    "# <center> Bank Customers Churn Analysis </center>"
   ]
  },
  {
   "cell_type": "markdown",
   "id": "41d8eca8",
   "metadata": {},
   "source": [
    "### Term Project Milestone 2: Data Preparation."
   ]
  },
  {
   "cell_type": "code",
   "execution_count": 2,
   "id": "36123b7c",
   "metadata": {},
   "outputs": [],
   "source": [
    "#Importing data\n",
    "import pandas as pd\n",
    "df = pd.read_csv(\"Churn Modeling.csv\")"
   ]
  },
  {
   "cell_type": "code",
   "execution_count": 3,
   "id": "ae871a72",
   "metadata": {},
   "outputs": [
    {
     "data": {
      "text/plain": [
       "RowNumber          0\n",
       "CustomerId         0\n",
       "Surname            0\n",
       "CreditScore        0\n",
       "Geography          0\n",
       "Gender             0\n",
       "Age                0\n",
       "Tenure             0\n",
       "Balance            0\n",
       "NumOfProducts      0\n",
       "HasCrCard          0\n",
       "IsActiveMember     0\n",
       "EstimatedSalary    0\n",
       "Exited             0\n",
       "dtype: int64"
      ]
     },
     "execution_count": 3,
     "metadata": {},
     "output_type": "execute_result"
    }
   ],
   "source": [
    "#checking null values\n",
    "df.isnull().sum()"
   ]
  },
  {
   "cell_type": "markdown",
   "id": "91a4e9a2",
   "metadata": {},
   "source": [
    "#### Observations\n",
    "- There is no null value in any column of the dataset.\n"
   ]
  },
  {
   "cell_type": "code",
   "execution_count": 4,
   "id": "e0c54612",
   "metadata": {},
   "outputs": [],
   "source": [
    "#removing unnecessary features\n",
    "df.drop(columns = ['RowNumber', 'CustomerId', 'Surname'], axis = 1, inplace = True)"
   ]
  },
  {
   "cell_type": "code",
   "execution_count": 5,
   "id": "342c2d2f",
   "metadata": {},
   "outputs": [],
   "source": [
    "#separating input and output features\n",
    "X = df.drop('Exited', axis = 1)\n",
    "y = df['Exited']"
   ]
  },
  {
   "cell_type": "code",
   "execution_count": 6,
   "id": "d7541f13",
   "metadata": {},
   "outputs": [],
   "source": [
    "#splitting data into train and test data\n",
    "from sklearn.model_selection import train_test_split\n",
    "X_train, X_test, y_train, y_test = train_test_split(X, y, random_state = 1, test_size = 0.2)"
   ]
  },
  {
   "cell_type": "markdown",
   "id": "1b870999",
   "metadata": {},
   "source": [
    "The variable age is skewed, so we will transform it by taking log of variable age."
   ]
  },
  {
   "cell_type": "code",
   "execution_count": 7,
   "id": "fcf5e72b",
   "metadata": {},
   "outputs": [
    {
     "data": {
      "text/plain": [
       "<AxesSubplot:>"
      ]
     },
     "execution_count": 7,
     "metadata": {},
     "output_type": "execute_result"
    },
    {
     "data": {
      "image/png": "[encoded data removed]",
      "text/plain": [
       "<Figure size 640x480 with 1 Axes>"
      ]
     },
     "metadata": {},
     "output_type": "display_data"
    }
   ],
   "source": [
    "import numpy as np\n",
    "X_train['log_age'] = np.log1p(X_train['Age'])\n",
    "X_test['log_age'] = np.log1p(X_test['Age'])\n",
    "X_train['log_age'].hist()"
   ]
  },
  {
   "cell_type": "code",
   "execution_count": 8,
   "id": "7465c6f5",
   "metadata": {},
   "outputs": [],
   "source": [
    "#dropping original age variable from train and test data\n",
    "X_train.drop('Age', axis = 1, inplace = True)\n",
    "X_test.drop('Age', axis = 1, inplace = True)"
   ]
  },
  {
   "cell_type": "code",
   "execution_count": 9,
   "id": "fac50691",
   "metadata": {},
   "outputs": [],
   "source": [
    "#creating dummy variables for both training and test data\n",
    "X_train = pd.get_dummies(X_train, drop_first = True)\n",
    "X_test = pd.get_dummies(X_test, drop_first = True)"
   ]
  },
  {
   "cell_type": "code",
   "execution_count": 10,
   "id": "66f9f2e6",
   "metadata": {},
   "outputs": [
    {
     "name": "stdout",
     "output_type": "stream",
     "text": [
      "(8000, 11)\n",
      "(2000, 11)\n"
     ]
    }
   ],
   "source": [
    "#checking shape of train and test data\n",
    "print(X_train.shape)\n",
    "print(X_test.shape)"
   ]
  },
  {
   "cell_type": "markdown",
   "id": "defa8aeb",
   "metadata": {},
   "source": [
    "##### Summary of Data Preparation\n",
    "- Drop unnecessary columns\n",
    "- Replace age variable with log of age\n",
    "- split data into train and test data\n",
    "- Create dummy variables for train and test data"
   ]
  }
 ],
 "metadata": {
  "kernelspec": {
   "display_name": "Python 3 (ipykernel)",
   "language": "python",
   "name": "python3"
  },
  "language_info": {
   "codemirror_mode": {
    "name": "ipython",
    "version": 3
   },
   "file_extension": ".py",
   "mimetype": "text/x-python",
   "name": "python",
   "nbconvert_exporter": "python",
   "pygments_lexer": "ipython3",
   "version": "3.9.13"
  }
 },
 "nbformat": 4,
 "nbformat_minor": 5
}
